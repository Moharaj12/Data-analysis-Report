{
 "cells": [
  {
   "cell_type": "markdown",
   "id": "ec8a6fe4",
   "metadata": {},
   "source": [
    "# CSCI 2000U - Scientific Data Analysis\n",
    "\n",
    "<b>Group/Individual Names\n",
    "\n",
    "Moharaj Oritro (100785545)\n",
    "\n",
    "\n",
    "Doudou Huang\n",
    "\n",
    "<b>Final Project: Proposal\n",
    "    \n",
    "<b>Goals:  \n",
    "1.    Choose a dataset of interest\n",
    "2.    Report on the dataset’s potential for data analysis\n",
    "3.    List of initial research questions related to the dataset.\n",
    "\n",
    "<b> Chosen Dataset:\n",
    "    https://www.kaggle.com/gagandeep16/car-sales"
   ]
  },
  {
   "cell_type": "markdown",
   "id": "e3a56af6",
   "metadata": {},
   "source": [
    "        Name of dataset:  Car Sales\n",
    "\n",
    "        Context: This is the Car sales data collection, which contains information about various cars. This data set was obtained from Analytixlabs for prediction purposes.The goal of this set was to determine which component/feature of a car increases its price.\n",
    "\n",
    "\n",
    "        Factors that hold car value are:\n",
    "                1.     Manufacturers\n",
    "                                The company that creates the automobile.\n",
    "                2.      Price \n",
    "                                The affordability of the vehicle. \n",
    "                3.      Vehicle type\n",
    "                                Car Body style.\n",
    "                4.      Horsepower\n",
    "                                How much power of an engine measured in Horsepower\n",
    "                5.      Fuel Effieciency\n",
    "                                The capacity of an engine, especially that of a vehicle, to obtain energy from fuel.\n"
   ]
  },
  {
   "cell_type": "code",
   "execution_count": 7,
   "id": "261a78d6",
   "metadata": {},
   "outputs": [],
   "source": [
    "#importing used libraries\n",
    "import csv\n",
    "import re\n",
    "from functools import reduce\n",
    "import numpy as np\n",
    "\n",
    "    \n",
    "# this aux function reads the CSV file and returns the data in a Python dictionary\n",
    "def get_data_csv():\n",
    "    collection = []\n",
    "    with open('Car_sales.csv', 'r') as f:\n",
    "        for line in csv.DictReader(f):\n",
    "            collection.append(line)\n",
    "        return collection\n",
    "        \n",
    "# the data    \n",
    "data = get_data_csv()"
   ]
  },
  {
   "cell_type": "markdown",
   "id": "81d2b2a3",
   "metadata": {},
   "source": [
    "# 1. How many car sales records are displayed ? \n",
    "# 2. What is the dataset's range of price (cheapest and highest)? Display the range.\n",
    "# 3. What is the average sale price?\n",
    "# 4. List all the Manufactureres in the data\n",
    "# 5. What type of Car Models are in the data set?\n"
   ]
  },
  {
   "cell_type": "code",
   "execution_count": null,
   "metadata": {},
   "outputs": [],
   "source": [
    "#1. How many car sales records are displayed?\n",
    "print(\"1. I have\",len(data),\"car sales records.\")\n",
    "print()"
   ]
  },
  {
   "cell_type": "code",
   "execution_count": 8,
   "id": "10bc585b",
   "metadata": {},
   "outputs": [
    {
     "name": "stdout",
     "output_type": "stream",
     "text": [
      "C:\\Users\\Mohar\n"
     ]
    }
   ],
   "source": [
    "# 3. What is the average sale price?\n",
    "print (\"4. There are\",len({x['Vehicle_type'] for x in data}),\"vehicle types which are\",{x['Vehicle_type'] for x in data})"
   ]
  },
  {
   "cell_type": "code",
   "execution_count": null,
   "metadata": {},
   "outputs": [],
   "source": [
    "# 2. What is the dataset's range of price (cheapest and highest)? Display the range.\n",
    "maxi = reduce(max, [x['Sales_in_thousands']for x in data])\n",
    "mini = reduce(min, [x['Sales_in_thousands']for x in data])\n",
    "print(\"2. Sales price is from\", maxi, \"to\", mini, \"thoudand dollars\")"
   ]
  },
  {
   "cell_type": "code",
   "execution_count": null,
   "metadata": {},
   "outputs": [],
   "source": [
    "#3 What is average sale\n",
    "print (\"4. There are\",len({x['Vehicle_type'] for x in data}),\"vehicle types which are\",{x['Vehicle_type'] for x in data})"
   ]
  },
  {
   "cell_type": "code",
   "execution_count": null,
   "metadata": {},
   "outputs": [],
   "source": [
    "# 5. What type of Car Models are in the data set?\n",
    "print (\"5. There are\",len({x['Model'] for x in data}),\"car models which are\",{x['Model'] for x in data})"
   ]
  },
  {
   "cell_type": "markdown",
   "id": "d173ca65",
   "metadata": {},
   "source": [
    "### Why did you choose this dataset over others? \n",
    "The value of vehicles spiked by 25% due to the recent pandemic.The demand for transportation is rapidly increasing as the population is increasing as well.The reason why we chose this data set is to determine which car is worth purchasing. As young adults we are beginning to buy our own first cars.This dataset shows us which vehicles depreciate less in value.\n",
    "\n",
    "\n",
    "### Was there any other dataset you also found interesting?\n",
    "\n",
    "We found many datasets but some were particularly eye-catching and intriguing. A dataset called Software Engineering degree salaries was interesting as it related to our program.Another interesting data was the dataset on diamonds,that topic was interesting as it had many opportunities for data mini and visualisation.\n",
    "\n",
    "### What are the data analysis questions you want to use this dataset for?\n",
    "\n",
    "1. Which car brand depreciates the least in value?\n",
    "2. How does Horsepower relate to the  fuel effiecieny?\n",
    "3. Do certain attributes have a bigger impact on holding value ?\n",
    "4. Do more expensive vehicles depreciate more ?\n",
    "5.  Which car models have been the most valuable?\n",
    "\n",
    "\n",
    "\n",
    "### What methods do you expect to apply when you process the data to answer these questions?\n",
    "\n",
    "- Have side by side comparison of each data\n",
    "- Creating a scatter plot and using LinearRegresion\n",
    "- Plot the attributes using a scatter plot to study the relationship using matplotlib \n",
    "- Creating Count plots to categorize our data\n",
    "### Do you see any potential for data science applications using this data?Examples: models for prediction, recommendation, data visualization, etc\n",
    "\n",
    "Buyers can use this dataset as a guidebook for making purchases on cars.\n",
    "Car Dealerships also can use this dataset as a guideline to increase their price of the car depending on the market.This data could also be converted to a machine learning model for the prediction of the price inflation because of aspect of the vehicle.Thus, an dealership could get an approximate value of their car models based on trends.\n",
    "This example will also help with predictions on the market value of vehicles.\n",
    "Data visualization is also utilised while creating charts to understand how each componenent relates to price\n"
   ]
  }
 ],
 "metadata": {
  "interpreter": {
   "hash": "69bc70e9a13daad9362d30044e2e1b4caa11a95d3be231710e43c672fbeb8375"
  },
  "kernelspec": {
   "display_name": "Python 3.9.7 64-bit (windows store)",
   "name": "python3"
  },
  "language_info": {
   "codemirror_mode": {
    "name": "ipython",
    "version": 3
   },
   "file_extension": ".py",
   "mimetype": "text/x-python",
   "name": "python",
   "nbconvert_exporter": "python",
   "pygments_lexer": "ipython3",
   "version": "3.9.7"
  }
 },
 "nbformat": 4,
 "nbformat_minor": 5
}
